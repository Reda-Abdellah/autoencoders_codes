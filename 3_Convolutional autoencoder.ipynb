{
 "cells": [
  {
   "cell_type": "code",
   "execution_count": 1,
   "metadata": {},
   "outputs": [
    {
     "name": "stderr",
     "output_type": "stream",
     "text": [
      "Using TensorFlow backend.\n"
     ]
    }
   ],
   "source": [
    "from keras.layers import Input, Dense, Conv2D, MaxPooling2D, UpSampling2D\n",
    "from keras.models import Model\n",
    "from keras import backend as K\n",
    "\n",
    "input_img = Input(shape=(28, 28, 1))  # adapt this if using `channels_first` image data format\n",
    "\n",
    "x = Conv2D(16, (3, 3), activation='relu', padding='same')(input_img)\n",
    "x = MaxPooling2D((2, 2), padding='same')(x)\n",
    "x = Conv2D(8, (3, 3), activation='relu', padding='same')(x)\n",
    "x = MaxPooling2D((2, 2), padding='same')(x)\n",
    "x = Conv2D(8, (3, 3), activation='relu', padding='same')(x)\n",
    "encoded = MaxPooling2D((2, 2), padding='same')(x)\n",
    "\n",
    "# at this point the representation is (4, 4, 8) i.e. 128-dimensional\n",
    "\n",
    "x = Conv2D(8, (3, 3), activation='relu', padding='same')(encoded)\n",
    "x = UpSampling2D((2, 2))(x)\n",
    "x = Conv2D(8, (3, 3), activation='relu', padding='same')(x)\n",
    "x = UpSampling2D((2, 2))(x)\n",
    "x = Conv2D(16, (3, 3), activation='relu')(x)\n",
    "x = UpSampling2D((2, 2))(x)\n",
    "decoded = Conv2D(1, (3, 3), activation='sigmoid', padding='same')(x)\n",
    "\n",
    "autoencoder = Model(input_img, decoded)\n",
    "autoencoder.compile(optimizer='adadelta', loss='binary_crossentropy')\n",
    "\n"
   ]
  },
  {
   "cell_type": "code",
   "execution_count": 2,
   "metadata": {},
   "outputs": [],
   "source": [
    "from keras.datasets import mnist\n",
    "import numpy as np\n",
    "\n",
    "(x_train, _), (x_test, _) = mnist.load_data()\n",
    "\n",
    "x_train = x_train.astype('float32') / 255.\n",
    "x_test = x_test.astype('float32') / 255.\n",
    "x_train = np.reshape(x_train, (len(x_train), 28, 28, 1))  # adapt this if using `channels_first` image data format\n",
    "x_test = np.reshape(x_test, (len(x_test), 28, 28, 1))  # adapt this if using `channels_first` image data format"
   ]
  },
  {
   "cell_type": "code",
   "execution_count": 3,
   "metadata": {},
   "outputs": [
    {
     "name": "stdout",
     "output_type": "stream",
     "text": [
      "Train on 60000 samples, validate on 10000 samples\n",
      "Epoch 1/50\n",
      "60000/60000 [==============================] - 34s 567us/step - loss: 0.2077 - val_loss: 0.1618\n",
      "Epoch 2/50\n",
      "60000/60000 [==============================] - 34s 571us/step - loss: 0.1534 - val_loss: 0.1465\n",
      "Epoch 3/50\n",
      "60000/60000 [==============================] - 35s 579us/step - loss: 0.1410 - val_loss: 0.1367\n",
      "Epoch 4/50\n",
      "60000/60000 [==============================] - 35s 581us/step - loss: 0.1351 - val_loss: 0.1284\n",
      "Epoch 5/50\n",
      "60000/60000 [==============================] - 35s 582us/step - loss: 0.1305 - val_loss: 0.1299\n",
      "Epoch 6/50\n",
      "60000/60000 [==============================] - 35s 586us/step - loss: 0.1270 - val_loss: 0.1253\n",
      "Epoch 7/50\n",
      "60000/60000 [==============================] - 35s 584us/step - loss: 0.1239 - val_loss: 0.1183\n",
      "Epoch 8/50\n",
      "60000/60000 [==============================] - 35s 585us/step - loss: 0.1215 - val_loss: 0.1214\n",
      "Epoch 9/50\n",
      "60000/60000 [==============================] - 35s 590us/step - loss: 0.1198 - val_loss: 0.1161\n",
      "Epoch 10/50\n",
      "60000/60000 [==============================] - 35s 578us/step - loss: 0.1182 - val_loss: 0.1156\n",
      "Epoch 11/50\n",
      "60000/60000 [==============================] - 35s 580us/step - loss: 0.1168 - val_loss: 0.1157\n",
      "Epoch 12/50\n",
      "60000/60000 [==============================] - 35s 579us/step - loss: 0.1162 - val_loss: 0.1167\n",
      "Epoch 13/50\n",
      "60000/60000 [==============================] - 35s 581us/step - loss: 0.1150 - val_loss: 0.1112\n",
      "Epoch 14/50\n",
      "60000/60000 [==============================] - 35s 578us/step - loss: 0.1144 - val_loss: 0.1120\n",
      "Epoch 15/50\n",
      "60000/60000 [==============================] - 35s 586us/step - loss: 0.1138 - val_loss: 0.1119\n",
      "Epoch 16/50\n",
      "60000/60000 [==============================] - 35s 583us/step - loss: 0.1130 - val_loss: 0.1120\n",
      "Epoch 17/50\n",
      "60000/60000 [==============================] - 34s 572us/step - loss: 0.1120 - val_loss: 0.1125\n",
      "Epoch 18/50\n",
      "60000/60000 [==============================] - 34s 572us/step - loss: 0.1115 - val_loss: 0.1116\n",
      "Epoch 19/50\n",
      "60000/60000 [==============================] - 34s 570us/step - loss: 0.1109 - val_loss: 0.1143\n",
      "Epoch 20/50\n",
      "60000/60000 [==============================] - 34s 570us/step - loss: 0.1101 - val_loss: 0.1092\n",
      "Epoch 21/50\n",
      "60000/60000 [==============================] - 34s 574us/step - loss: 0.1098 - val_loss: 0.1078\n",
      "Epoch 22/50\n",
      "60000/60000 [==============================] - 34s 572us/step - loss: 0.1095 - val_loss: 0.1087\n",
      "Epoch 23/50\n",
      "60000/60000 [==============================] - 35s 577us/step - loss: 0.1091 - val_loss: 0.1074\n",
      "Epoch 24/50\n",
      "60000/60000 [==============================] - 35s 577us/step - loss: 0.1088 - val_loss: 0.1080\n",
      "Epoch 25/50\n",
      "60000/60000 [==============================] - 35s 586us/step - loss: 0.1087 - val_loss: 0.1071\n",
      "Epoch 26/50\n",
      "60000/60000 [==============================] - 35s 576us/step - loss: 0.1083 - val_loss: 0.1076\n",
      "Epoch 27/50\n",
      "60000/60000 [==============================] - 35s 576us/step - loss: 0.1083 - val_loss: 0.1060\n",
      "Epoch 28/50\n",
      "60000/60000 [==============================] - 34s 573us/step - loss: 0.1078 - val_loss: 0.1080\n",
      "Epoch 29/50\n",
      "60000/60000 [==============================] - 35s 577us/step - loss: 0.1076 - val_loss: 0.1065\n",
      "Epoch 30/50\n",
      "60000/60000 [==============================] - 35s 575us/step - loss: 0.1071 - val_loss: 0.1045\n",
      "Epoch 31/50\n",
      "60000/60000 [==============================] - 35s 579us/step - loss: 0.1069 - val_loss: 0.1050\n",
      "Epoch 32/50\n",
      "60000/60000 [==============================] - 34s 574us/step - loss: 0.1066 - val_loss: 0.1042\n",
      "Epoch 33/50\n",
      "60000/60000 [==============================] - 34s 574us/step - loss: 0.1065 - val_loss: 0.1038\n",
      "Epoch 34/50\n",
      "60000/60000 [==============================] - 34s 574us/step - loss: 0.1064 - val_loss: 0.1045\n",
      "Epoch 35/50\n",
      "60000/60000 [==============================] - 35s 590us/step - loss: 0.1059 - val_loss: 0.1031\n",
      "Epoch 36/50\n",
      "60000/60000 [==============================] - 34s 572us/step - loss: 0.1057 - val_loss: 0.1042\n",
      "Epoch 37/50\n",
      "60000/60000 [==============================] - 36s 594us/step - loss: 0.1056 - val_loss: 0.1052\n",
      "Epoch 38/50\n",
      "60000/60000 [==============================] - 35s 581us/step - loss: 0.1053 - val_loss: 0.1036\n",
      "Epoch 39/50\n",
      "60000/60000 [==============================] - 35s 581us/step - loss: 0.1055 - val_loss: 0.1043\n",
      "Epoch 40/50\n",
      "60000/60000 [==============================] - 35s 577us/step - loss: 0.1050 - val_loss: 0.1040\n",
      "Epoch 41/50\n",
      "60000/60000 [==============================] - 35s 578us/step - loss: 0.1047 - val_loss: 0.1064\n",
      "Epoch 42/50\n",
      "60000/60000 [==============================] - 35s 577us/step - loss: 0.1048 - val_loss: 0.1037\n",
      "Epoch 43/50\n",
      "60000/60000 [==============================] - 34s 575us/step - loss: 0.1045 - val_loss: 0.1052\n",
      "Epoch 44/50\n",
      "60000/60000 [==============================] - 34s 569us/step - loss: 0.1040 - val_loss: 0.1003\n",
      "Epoch 45/50\n",
      "60000/60000 [==============================] - 34s 569us/step - loss: 0.1038 - val_loss: 0.1048\n",
      "Epoch 46/50\n",
      "60000/60000 [==============================] - 35s 588us/step - loss: 0.1038 - val_loss: 0.1015\n",
      "Epoch 47/50\n",
      "60000/60000 [==============================] - 35s 589us/step - loss: 0.1036 - val_loss: 0.1021\n",
      "Epoch 48/50\n",
      "60000/60000 [==============================] - 36s 598us/step - loss: 0.1032 - val_loss: 0.1027\n",
      "Epoch 49/50\n",
      "60000/60000 [==============================] - 35s 587us/step - loss: 0.1034 - val_loss: 0.1016\n",
      "Epoch 50/50\n",
      "60000/60000 [==============================] - 35s 590us/step - loss: 0.1034 - val_loss: 0.1015\n"
     ]
    },
    {
     "data": {
      "text/plain": [
       "<keras.callbacks.History at 0x7fc8754e13c8>"
      ]
     },
     "execution_count": 3,
     "metadata": {},
     "output_type": "execute_result"
    }
   ],
   "source": [
    "from keras.callbacks import TensorBoard\n",
    "\n",
    "autoencoder.fit(x_train, x_train,\n",
    "                epochs=50,\n",
    "                batch_size=128,\n",
    "                shuffle=True,\n",
    "                validation_data=(x_test, x_test),\n",
    "                callbacks=[TensorBoard(log_dir='/tmp/autoencoder')])"
   ]
  },
  {
   "cell_type": "code",
   "execution_count": 6,
   "metadata": {},
   "outputs": [
    {
     "data": {
      "image/png": "[encoded data removed]",
      "text/plain": [
       "<Figure size 1440x288 with 20 Axes>"
      ]
     },
     "metadata": {},
     "output_type": "display_data"
    }
   ],
   "source": [
    "%matplotlib inline\n",
    "decoded_imgs = autoencoder.predict(x_test)\n",
    "import matplotlib.pyplot as plt\n",
    "\n",
    "n = 10\n",
    "plt.figure(figsize=(20, 4))\n",
    "for i in range(n):\n",
    "    # display original\n",
    "    ax = plt.subplot(2, n, i+1)\n",
    "    plt.imshow(x_test[i].reshape(28, 28))\n",
    "    plt.gray()\n",
    "    ax.get_xaxis().set_visible(False)\n",
    "    ax.get_yaxis().set_visible(False)\n",
    "\n",
    "    # display reconstruction\n",
    "    ax = plt.subplot(2, n, i + n+1)\n",
    "    plt.imshow(decoded_imgs[i].reshape(28, 28))\n",
    "    plt.gray()\n",
    "    ax.get_xaxis().set_visible(False)\n",
    "    ax.get_yaxis().set_visible(False)\n",
    "plt.show()"
   ]
  },
  {
   "cell_type": "code",
   "execution_count": 9,
   "metadata": {},
   "outputs": [
    {
     "data": {
      "image/png": "[encoded data removed]",
      "text/plain": [
       "<Figure size 1440x576 with 10 Axes>"
      ]
     },
     "metadata": {},
     "output_type": "display_data"
    }
   ],
   "source": [
    "encoder=Model(input_img,encoded)\n",
    "encoded_imgs = encoder.predict(x_test)\n",
    "\n",
    "n = 10\n",
    "plt.figure(figsize=(20, 8))\n",
    "for i in range(n):\n",
    "    ax = plt.subplot(1, n, i+1)\n",
    "    plt.imshow(encoded_imgs[i].reshape(4, 4 * 8).T)\n",
    "    plt.gray()\n",
    "    ax.get_xaxis().set_visible(False)\n",
    "    ax.get_yaxis().set_visible(False)\n",
    "plt.show()\n"
   ]
  }
 ],
 "metadata": {
  "kernelspec": {
   "display_name": "Python 3",
   "language": "python",
   "name": "python3"
  },
  "language_info": {
   "codemirror_mode": {
    "name": "ipython",
    "version": 3
   },
   "file_extension": ".py",
   "mimetype": "text/x-python",
   "name": "python",
   "nbconvert_exporter": "python",
   "pygments_lexer": "ipython3",
   "version": "3.6.5"
  }
 },
 "nbformat": 4,
 "nbformat_minor": 2
}
